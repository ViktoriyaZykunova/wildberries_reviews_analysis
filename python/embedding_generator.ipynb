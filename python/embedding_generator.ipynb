{
 "cells": [
  {
   "cell_type": "code",
   "execution_count": null,
   "id": "ac674731",
   "metadata": {},
   "outputs": [],
   "source": [
    "from sentence_transformers import SentenceTransformer\n",
    "import numpy as np\n",
    "from psycopg2.extras import execute_batch"
   ]
  },
  {
   "cell_type": "code",
   "execution_count": null,
   "id": "0469fcd2",
   "metadata": {},
   "outputs": [],
   "source": [
    "#Связь с БД\n",
    "get_db_connection():\n",
    "    return psycopg2.connect(**DB_CONFIG)"
   ]
  },
  {
   "cell_type": "code",
   "execution_count": null,
   "id": "416a81e8",
   "metadata": {},
   "outputs": [],
   "source": [
    "#Конфигурация\n",
    "MODEL_NAME = 'sentence-transformers/all-MiniLM-L6-v2'  \n",
    "LIMIT = 100  # Устнавливаем лимит отзывов для обработки, чтобы не груззить базу"
   ]
  },
  {
   "cell_type": "code",
   "execution_count": null,
   "id": "35b954ce",
   "metadata": {},
   "outputs": [],
   "source": [
    "def generate_limited_embeddings():\n",
    "    model = SentenceTransformer(MODEL_NAME)\n",
    "    \n",
    "    #Получаем отзывы для обработки\n",
    "    try:\n",
    "        with get_db_connection() as conn:\n",
    "            with conn.cursor() as cursor:\n",
    "                cursor.execute(\"\"\"\n",
    "                    SELECT r.review_id, r.text \n",
    "                    FROM reviews r\n",
    "                    WHERE NOT EXISTS(\n",
    "                        SELECT 1 FROM embeddings e\n",
    "                        WHERE e.review_id = r.review_id\n",
    "                    )\n",
    "                    ORDER BY r.review_id\n",
    "                    LIMIT %s\n",
    "                \"\"\", (LIMIT,))\n",
    "                \n",
    "                batch = cursor.fetchall()\n",
    "                if not batch:\n",
    "                    print(\"Нет новых отзывов для обработки\")\n",
    "                    return 0\n",
    "\n",
    "                review_ids, texts = zip(*batch)\n",
    "                print(f\"Начало обработки {len(batch)} отзывов...\")\n",
    "\n",
    "                #Генерация эмбеддингов\n",
    "                embeddings = model.encode(texts, convert_to_tensor=False) \n",
    "\n",
    "                #Вставляем с использованием execute_batch для большей эффективности\n",
    "                try:\n",
    "                    execute_batch(\n",
    "                        cursor,\n",
    "                        \"INSERT INTO embeddings (review_id, vector) VALUES (%s, %s)\",\n",
    "                        [(rid, emb.tolist()) for rid, emb in zip(review_ids, embeddings)],\n",
    "                        page_size=100\n",
    "                    )\n",
    "                    conn.commit()\n",
    "                    print(f\"Успешно обработано {len(batch)} отзывов\")\n",
    "                    return len(batch)\n",
    "                    \n",
    "                except Exception as e:\n",
    "                    conn.rollback()\n",
    "                    print(f\"Ошибка при вставке в базу данных: {str(e)}\")\n",
    "                    raise\n",
    "\n",
    "    except psycopg2.Error as e:\n",
    "        print(f\"Ошибка подключения к базе данных: {str(e)}\")\n",
    "        return 0\n",
    "if __name__ == \"__main__\":\n",
    "    generate_limited_embeddings()"
   ]
  }
 ],
 "metadata": {
  "language_info": {
   "name": "python"
  }
 },
 "nbformat": 4,
 "nbformat_minor": 5
}
